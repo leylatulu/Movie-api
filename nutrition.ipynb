{
 "cells": [
  {
   "cell_type": "code",
   "execution_count": 4,
   "metadata": {},
   "outputs": [],
   "source": [
    "import requests\n",
    "from config import NUTRITION_API_KEY"
   ]
  },
  {
   "cell_type": "code",
   "execution_count": 7,
   "metadata": {},
   "outputs": [],
   "source": [
    "url = \"https://edamam-edamam-nutrition-analysis.p.rapidapi.com/api/nutrition-data\"\n",
    "\n",
    "querystring = {\"ingr\":\"<REQUIRED>\",\"nutrition-type\":\"cooking\"}\n",
    "\n",
    "headers = {\n",
    "\t\"X-RapidAPI-Key\": NUTRITION_API_KEY,\n",
    "\t\"X-RapidAPI-Host\": \"edamam-edamam-nutrition-analysis.p.rapidapi.com\"\n",
    "}\n",
    "\n",
    "response = requests.get(url, headers=headers, params=querystring).json()"
   ]
  },
  {
   "cell_type": "code",
   "execution_count": 8,
   "metadata": {},
   "outputs": [
    {
     "data": {
      "text/plain": [
       "{'uri': 'http://www.edamam.com/ontologies/edamam.owl#recipe_2eb83bab0e5a4724bb9a9621786fa45c',\n",
       " 'calories': 0,\n",
       " 'totalWeight': 0.0,\n",
       " 'dietLabels': [],\n",
       " 'healthLabels': ['LOW_SUGAR',\n",
       "  'VEGAN',\n",
       "  'VEGETARIAN',\n",
       "  'PESCATARIAN',\n",
       "  'PALEO',\n",
       "  'SPECIFIC_CARBS',\n",
       "  'DAIRY_FREE',\n",
       "  'GLUTEN_FREE',\n",
       "  'WHEAT_FREE',\n",
       "  'EGG_FREE',\n",
       "  'MILK_FREE',\n",
       "  'PEANUT_FREE',\n",
       "  'TREE_NUT_FREE',\n",
       "  'SOY_FREE',\n",
       "  'FISH_FREE',\n",
       "  'SHELLFISH_FREE',\n",
       "  'PORK_FREE',\n",
       "  'RED_MEAT_FREE',\n",
       "  'CRUSTACEAN_FREE',\n",
       "  'CELERY_FREE',\n",
       "  'MUSTARD_FREE',\n",
       "  'SESAME_FREE',\n",
       "  'LUPINE_FREE',\n",
       "  'MOLLUSK_FREE',\n",
       "  'ALCOHOL_FREE',\n",
       "  'NO_OIL_ADDED',\n",
       "  'NO_SUGAR_ADDED',\n",
       "  'FODMAP_FREE',\n",
       "  'KOSHER'],\n",
       " 'cautions': [],\n",
       " 'totalNutrients': {},\n",
       " 'totalDaily': {}}"
      ]
     },
     "execution_count": 8,
     "metadata": {},
     "output_type": "execute_result"
    }
   ],
   "source": [
    "response"
   ]
  },
  {
   "cell_type": "code",
   "execution_count": null,
   "metadata": {},
   "outputs": [],
   "source": []
  }
 ],
 "metadata": {
  "kernelspec": {
   "display_name": "Python 3",
   "language": "python",
   "name": "python3"
  },
  "language_info": {
   "codemirror_mode": {
    "name": "ipython",
    "version": 3
   },
   "file_extension": ".py",
   "mimetype": "text/x-python",
   "name": "python",
   "nbconvert_exporter": "python",
   "pygments_lexer": "ipython3",
   "version": "3.10.13"
  }
 },
 "nbformat": 4,
 "nbformat_minor": 2
}
